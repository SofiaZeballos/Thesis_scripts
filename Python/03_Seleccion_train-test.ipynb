{
 "cells": [
  {
   "cell_type": "markdown",
   "id": "673769af",
   "metadata": {},
   "source": [
    "Este script se utilizó para definir X_train, y_train, X_test e y_test"
   ]
  },
  {
   "cell_type": "code",
   "execution_count": 11,
   "id": "6f31331a",
   "metadata": {},
   "outputs": [],
   "source": [
    "# ---- Packages -----\n",
    "import pandas as pd\n",
    "import numpy as np\n",
    "from sklearn.model_selection import train_test_split\n",
    "import random\n",
    "random.seed(42)"
   ]
  },
  {
   "cell_type": "code",
   "execution_count": 6,
   "id": "8740d0ea",
   "metadata": {},
   "outputs": [
    {
     "data": {
      "text/plain": [
       "68"
      ]
     },
     "execution_count": 6,
     "metadata": {},
     "output_type": "execute_result"
    }
   ],
   "source": [
    "#Abrir tabla en donde están relevados los genes de la cadena\n",
    "genes = pd.read_csv(r\"..\\Archivos\\Genes_entrenamiento\\Genes_cadena.csv\",\n",
    "                   sep = ',')\n",
    "# Filtrar el DataFrame para seleccionar las filas que cumplan la condición\n",
    "filas_seleccionadas = genes[genes['Usar para entrenar'] == 'si']\n",
    "\n",
    "# Obtener los valores de la columna 'WBID' para las filas seleccionadas\n",
    "muestra_positiva = filas_seleccionadas['WBID'].tolist()\n",
    "len(muestra_positiva)"
   ]
  },
  {
   "cell_type": "code",
   "execution_count": 7,
   "id": "df9c592e",
   "metadata": {},
   "outputs": [
    {
     "data": {
      "text/plain": [
       "282"
      ]
     },
     "execution_count": 7,
     "metadata": {},
     "output_type": "execute_result"
    }
   ],
   "source": [
    "#Abrir la lista de genes que pertenecen al cluster B del grafo\n",
    "file_name = r\"..\\Archivos\\Genes_entrenamiento\\genes_cluster_B.txt\"\n",
    "\n",
    "# Lista para almacenar los genes negativos\n",
    "muestra_negativa = []\n",
    "\n",
    "# Leer el archivo y guardar los genes negativos en la lista\n",
    "with open(file_name, \"r\") as file:\n",
    "    for line in file:\n",
    "        gene = line.strip()  # Eliminar espacios en blanco y saltos de línea alrededor del gen\n",
    "        muestra_negativa.append(gene)\n",
    "len(muestra_negativa)"
   ]
  },
  {
   "cell_type": "code",
   "execution_count": 12,
   "id": "6de32a1b",
   "metadata": {},
   "outputs": [],
   "source": [
    "#Concatenar las muestras positivas y negativas\n",
    "todos_los_genes = muestra_positiva + muestra_negativa\n",
    "\n",
    "# Crear vector de clases\n",
    "clases = [1] * len(muestra_positiva) + [0] * len(muestra_negativa)\n",
    "\n",
    "# Dividir los datos en conjuntos de entrenamiento y prueba\n",
    "X_train, X_test, y_train, y_test = train_test_split(todos_los_genes, clases, random_state=  123)\n"
   ]
  },
  {
   "cell_type": "code",
   "execution_count": 14,
   "id": "db4b7327",
   "metadata": {},
   "outputs": [],
   "source": [
    "# # Guardar las listas como archivos de texto\n",
    "# with open('..\\Archivos\\Genes_entrenamiento\\X_train.txt', 'w') as file:\n",
    "#     for item in X_train:\n",
    "#         file.write('%s\\n' % item)\n",
    "\n",
    "# with open('..\\Archivos\\Genes_entrenamiento\\X_test.txt', 'w') as file:\n",
    "#     for item in X_test:\n",
    "#         file.write('%s\\n' % item)\n",
    "\n",
    "# with open('..\\Archivos\\Genes_entrenamiento\\y_train.txt', 'w') as file:\n",
    "#     for item in y_train:\n",
    "#         file.write('%s\\n' % item)\n",
    "\n",
    "# with open('..\\Archivos\\Genes_entrenamiento\\y_test.txt', 'w') as file:\n",
    "#     for item in y_test:\n",
    "#         file.write('%s\\n' % item)"
   ]
  }
 ],
 "metadata": {
  "kernelspec": {
   "display_name": "Python 3 (ipykernel)",
   "language": "python",
   "name": "python3"
  },
  "language_info": {
   "codemirror_mode": {
    "name": "ipython",
    "version": 3
   },
   "file_extension": ".py",
   "mimetype": "text/x-python",
   "name": "python",
   "nbconvert_exporter": "python",
   "pygments_lexer": "ipython3",
   "version": "3.9.13"
  }
 },
 "nbformat": 4,
 "nbformat_minor": 5
}
